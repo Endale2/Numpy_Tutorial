{
 "cells": [
  {
   "cell_type": "markdown",
   "id": "300f540b-4a85-417f-8507-9b676071fd13",
   "metadata": {},
   "source": [
    "  ### Day - 01"
   ]
  },
  {
   "cell_type": "code",
   "execution_count": 1,
   "id": "48449127-5078-4d45-befa-58ac0f25b99b",
   "metadata": {},
   "outputs": [
    {
     "name": "stdout",
     "output_type": "stream",
     "text": [
      "[2 1 4 5 8]\n",
      "type <class 'numpy.ndarray'>\n",
      "shape (5,)\n"
     ]
    }
   ],
   "source": [
    "import  numpy  as  np\n",
    "\n",
    "arr = np.array([2,1,4,5,8])\n",
    "\n",
    "print(arr)\n",
    "\n",
    "print(\"type\", type(arr))\n",
    "print(\"shape\" , np.shape(arr))"
   ]
  },
  {
   "cell_type": "code",
   "execution_count": 2,
   "id": "096b5664-04fd-430c-b3db-a6f4d6b3f9b7",
   "metadata": {},
   "outputs": [
    {
     "name": "stdout",
     "output_type": "stream",
     "text": [
      "[ 6  8 10 12]\n"
     ]
    }
   ],
   "source": [
    "a =  np.array([1,2,3,4])\n",
    "b = np.array([5,6,7,8])\n",
    "\n",
    "print(a + b)"
   ]
  },
  {
   "cell_type": "code",
   "execution_count": 3,
   "id": "1a9e809f-5859-40f1-9064-86063bdbfb78",
   "metadata": {},
   "outputs": [
    {
     "name": "stdout",
     "output_type": "stream",
     "text": [
      "[[0. 0. 0. 0.]\n",
      " [0. 0. 0. 0.]]\n"
     ]
    }
   ],
   "source": [
    "zeros =  np.zeros((2,4))\n",
    "print(zeros)"
   ]
  },
  {
   "cell_type": "code",
   "execution_count": 4,
   "id": "7575e5fa-3bbc-4efa-8965-a9ef86110365",
   "metadata": {},
   "outputs": [
    {
     "name": "stdout",
     "output_type": "stream",
     "text": [
      "[[1. 1. 1.]\n",
      " [1. 1. 1.]]\n"
     ]
    }
   ],
   "source": [
    "ones  = np.ones((2,3))\n",
    "print(ones)"
   ]
  },
  {
   "cell_type": "markdown",
   "id": "a0cecd0c-4289-4cd1-81a3-78631438faa8",
   "metadata": {},
   "source": [
    "arr = np.arange(0,100, 11)\n",
    "print(arr)"
   ]
  },
  {
   "cell_type": "code",
   "execution_count": 5,
   "id": "2afbe176-b3b2-4e96-a02a-5b5bd612ebb6",
   "metadata": {},
   "outputs": [
    {
     "name": "stdout",
     "output_type": "stream",
     "text": [
      "[ 10.  55. 100.]\n"
     ]
    }
   ],
   "source": [
    "arr = np.linspace(10,100,3)\n",
    "print(arr)"
   ]
  },
  {
   "cell_type": "code",
   "execution_count": 6,
   "id": "c8ad0caa-ea65-4891-83f8-0475fcb08d51",
   "metadata": {},
   "outputs": [
    {
     "name": "stdout",
     "output_type": "stream",
     "text": [
      "[[1. 1. 1.]\n",
      " [1. 9. 1.]\n",
      " [1. 1. 1.]]\n"
     ]
    }
   ],
   "source": [
    "arr = np.ones((3,3))\n",
    "arr[1][1] =  9\n",
    "\n",
    "print(arr)"
   ]
  },
  {
   "cell_type": "code",
   "execution_count": 8,
   "id": "4942bcbb-7127-40d0-b69c-2b1d734398ec",
   "metadata": {},
   "outputs": [
    {
     "name": "stdout",
     "output_type": "stream",
     "text": [
      "(2, 3)\n",
      "2\n",
      "6\n",
      "int64\n",
      "8\n"
     ]
    }
   ],
   "source": [
    "arr = np.array([[1, 2, 3],\n",
    "                [4, 5, 6]])\n",
    "\n",
    "print(arr.shape)\n",
    "print(arr.ndim)\n",
    "print(arr.size)\n",
    "print(arr.dtype)\n",
    "print(arr.itemsize)"
   ]
  },
  {
   "cell_type": "markdown",
   "id": "f557f063-d5b2-47ad-88d8-4f7d29e2e01f",
   "metadata": {},
   "source": [
    "#### Indexing & Slicing\n"
   ]
  },
  {
   "cell_type": "code",
   "execution_count": 11,
   "id": "ee72430c-878f-4fa3-8dd0-ef67782eeee9",
   "metadata": {},
   "outputs": [
    {
     "name": "stdout",
     "output_type": "stream",
     "text": [
      "10\n",
      "80\n",
      "70\n"
     ]
    }
   ],
   "source": [
    "arr =  np.array([10,20,30,40,50,60,70,80])\n",
    "print(arr[0])\n",
    "print(arr[-1])\n",
    "print(arr[-2])"
   ]
  },
  {
   "cell_type": "code",
   "execution_count": 12,
   "id": "05a13333-8c5c-44d7-8433-32520318da97",
   "metadata": {
    "scrolled": true
   },
   "outputs": [
    {
     "name": "stdout",
     "output_type": "stream",
     "text": [
      "[[ 1  2  3  4]\n",
      " [ 5  6  7  8]\n",
      " [ 9 10 11 12]\n",
      " [13 14 15 16]]\n"
     ]
    }
   ],
   "source": [
    "arr = np.arange(1,17).reshape(4,4)\n",
    "\n",
    "print(arr)1"
   ]
  },
  {
   "cell_type": "code",
   "execution_count": null,
   "id": "95b911ea-9134-4c2c-8f0d-c222e729a998",
   "metadata": {},
   "outputs": [],
   "source": []
  }
 ],
 "metadata": {
  "kernelspec": {
   "display_name": "Python 3 (ipykernel)",
   "language": "python",
   "name": "python3"
  },
  "language_info": {
   "codemirror_mode": {
    "name": "ipython",
    "version": 3
   },
   "file_extension": ".py",
   "mimetype": "text/x-python",
   "name": "python",
   "nbconvert_exporter": "python",
   "pygments_lexer": "ipython3",
   "version": "3.12.2"
  }
 },
 "nbformat": 4,
 "nbformat_minor": 5
}
