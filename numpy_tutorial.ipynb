{
 "cells": [
  {
   "cell_type": "markdown",
   "id": "300f540b-4a85-417f-8507-9b676071fd13",
   "metadata": {},
   "source": [
    "  ### Day - 01"
   ]
  },
  {
   "cell_type": "code",
   "execution_count": 3,
   "id": "48449127-5078-4d45-befa-58ac0f25b99b",
   "metadata": {},
   "outputs": [
    {
     "name": "stdout",
     "output_type": "stream",
     "text": [
      "[2 1 4 5 8]\n",
      "type <class 'numpy.ndarray'>\n",
      "shape (5,)\n"
     ]
    }
   ],
   "source": [
    "import  numpy  as  np\n",
    "\n",
    "arr = np.array([2,1,4,5,8])\n",
    "\n",
    "print(arr)\n",
    "\n",
    "print(\"type\", type(arr))\n",
    "print(\"shape\" , np.shape(arr))"
   ]
  },
  {
   "cell_type": "code",
   "execution_count": 4,
   "id": "096b5664-04fd-430c-b3db-a6f4d6b3f9b7",
   "metadata": {},
   "outputs": [
    {
     "name": "stdout",
     "output_type": "stream",
     "text": [
      "[ 6  8 10 12]\n"
     ]
    }
   ],
   "source": [
    "a =  np.array([1,2,3,4])\n",
    "b = np.array([5,6,7,8])\n",
    "\n",
    "print(a + b)"
   ]
  },
  {
   "cell_type": "code",
   "execution_count": 10,
   "id": "1a9e809f-5859-40f1-9064-86063bdbfb78",
   "metadata": {},
   "outputs": [
    {
     "name": "stdout",
     "output_type": "stream",
     "text": [
      "[[0. 0. 0. 0.]\n",
      " [0. 0. 0. 0.]]\n"
     ]
    }
   ],
   "source": [
    "zeros =  np.zeros((2,4))\n",
    "print(zeros)"
   ]
  },
  {
   "cell_type": "code",
   "execution_count": 11,
   "id": "7575e5fa-3bbc-4efa-8965-a9ef86110365",
   "metadata": {},
   "outputs": [
    {
     "name": "stdout",
     "output_type": "stream",
     "text": [
      "[[1. 1. 1.]\n",
      " [1. 1. 1.]]\n"
     ]
    }
   ],
   "source": [
    "ones  = np.ones((2,3))\n",
    "print(ones)"
   ]
  },
  {
   "cell_type": "markdown",
   "id": "a0cecd0c-4289-4cd1-81a3-78631438faa8",
   "metadata": {},
   "source": [
    "arr = np.arange(0,100, 11)\n",
    "print(arr)"
   ]
  },
  {
   "cell_type": "code",
   "execution_count": null,
   "id": "bbb655bb-4f83-4a5a-a470-db81293e41b1",
   "metadata": {},
   "outputs": [],
   "source": []
  },
  {
   "cell_type": "code",
   "execution_count": 15,
   "id": "2afbe176-b3b2-4e96-a02a-5b5bd612ebb6",
   "metadata": {},
   "outputs": [
    {
     "name": "stdout",
     "output_type": "stream",
     "text": [
      "[ 10.  55. 100.]\n"
     ]
    }
   ],
   "source": [
    "arr = np.linspace(10,100,3)\n",
    "print(arr)"
   ]
  },
  {
   "cell_type": "code",
   "execution_count": null,
   "id": "5f0f0ead-35d8-4738-ba4d-303f4a8175ed",
   "metadata": {},
   "outputs": [],
   "source": []
  }
 ],
 "metadata": {
  "kernelspec": {
   "display_name": "Python 3 (ipykernel)",
   "language": "python",
   "name": "python3"
  },
  "language_info": {
   "codemirror_mode": {
    "name": "ipython",
    "version": 3
   },
   "file_extension": ".py",
   "mimetype": "text/x-python",
   "name": "python",
   "nbconvert_exporter": "python",
   "pygments_lexer": "ipython3",
   "version": "3.12.2"
  }
 },
 "nbformat": 4,
 "nbformat_minor": 5
}
