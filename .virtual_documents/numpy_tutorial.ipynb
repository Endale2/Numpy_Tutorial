


import  numpy  as  np

arr = np.array([2,1,4,5,8])

print(arr)

print("type", type(arr))
print("shape" , np.shape(arr))


a =  np.array([1,2,3,4])
b = np.array([5,6,7,8])

print(a + b)


zeros =  np.zeros((2,4))
print(zeros)


ones  = np.ones((2,3))
print(ones)





arr = np.linspace(10,100,3)
print(arr)


arr = np.ones((3,3))
arr[1][1] =  9

print(arr)


arr = np.array([[1, 2, 3],
                [4, 5, 6]])

print(arr.shape)
print(arr.ndim)
print(arr.size)
print(arr.dtype)
print(arr.itemsize)





arr =  np.array([10,20,30,40,50,60,70,80])
print(arr[0])
print(arr[-1])
print(arr[-2])


arr = np.arange(1,17).reshape(4,4)

print(arr)





a = np.array([1,2,3])

b  = np.array([4,5,6])

print(a+b)


print(a*b)


print(a**b)


print(np.sqrt(a))


print(np.exp(a))



