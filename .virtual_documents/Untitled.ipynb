


import  numpy  as  np

arr = np.array([2,1,4,5,8])

print(arr)

print("type", type(arr))
print("shape" , np.shape(arr))


a =  np.array([1,2,3,4])
b = np.array([5,6,7,8])

print(a + b)


zeros =  np.zeros((2,4))
print(zeros)


ones  = np.ones((2,3))
print(ones)








arr = np.linspace(10,100,3)
print(arr)
